{
 "cells": [
  {
   "cell_type": "code",
   "execution_count": 49,
   "metadata": {
    "collapsed": true,
    "pycharm": {
     "name": "#%%\n"
    }
   },
   "outputs": [],
   "source": [
    "import gzip\n",
    "import json\n",
    "\n",
    "import numpy\n",
    "import numpy as np\n",
    "import pandas as pd\n",
    "import matplotlib.pyplot as plt"
   ]
  },
  {
   "cell_type": "code",
   "execution_count": 50,
   "outputs": [
    {
     "name": "stdout",
     "output_type": "stream",
     "text": [
      "['Man I love reddit.', 'love', 'positive']\n"
     ]
    }
   ],
   "source": [
    "fl=gzip.open('goemotions.json.gz')\n",
    "res=json.load(fl)\n",
    "#test\n",
    "print(res[2])"
   ],
   "metadata": {
    "collapsed": false,
    "pycharm": {
     "name": "#%%\n"
    }
   }
  },
  {
   "cell_type": "code",
   "execution_count": 51,
   "outputs": [],
   "source": [
    "df=pd.DataFrame(res,columns=[\"post\",\"emotion\",\"sentiment\"])\n",
    "emotions_and_sentiments=df.drop(columns=['post'])"
   ],
   "metadata": {
    "collapsed": false,
    "pycharm": {
     "name": "#%%\n"
    }
   }
  },
  {
   "cell_type": "code",
   "execution_count": 52,
   "outputs": [],
   "source": [
    "posts=df.drop(columns=['emotion','sentiment'])\n",
    "numpy_posts=posts.to_numpy().flatten()\n",
    "numpy_emotions_and_sentiments=emotions_and_sentiments.to_numpy()"
   ],
   "metadata": {
    "collapsed": false,
    "pycharm": {
     "name": "#%%\n"
    }
   }
  },
  {
   "cell_type": "code",
   "execution_count": 53,
   "outputs": [
    {
     "data": {
      "text/plain": "'positive'"
     },
     "execution_count": 53,
     "metadata": {},
     "output_type": "execute_result"
    }
   ],
   "source": [
    "numpy_emotions_and_sentiments[2][1]"
   ],
   "metadata": {
    "collapsed": false,
    "pycharm": {
     "name": "#%%\n"
    }
   }
  },
  {
   "cell_type": "code",
   "execution_count": 54,
   "outputs": [],
   "source": [
    "from sklearn.model_selection import train_test_split\n",
    "X_train, X_test, y_train, y_test =train_test_split(numpy_posts,numpy_emotions_and_sentiments,test_size=0.2,train_size=0.8,random_state=0)"
   ],
   "metadata": {
    "collapsed": false,
    "pycharm": {
     "name": "#%%\n"
    }
   }
  },
  {
   "cell_type": "code",
   "execution_count": 55,
   "outputs": [],
   "source": [
    "y_train_emotion=y_train[:,0]\n",
    "y_train_sentiment=y_train[:,1]\n",
    "y_test_emotion=y_test[:,0]\n",
    "y_test_sentiment=y_test[:,1]"
   ],
   "metadata": {
    "collapsed": false,
    "pycharm": {
     "name": "#%%\n"
    }
   }
  },
  {
   "cell_type": "code",
   "execution_count": 56,
   "outputs": [],
   "source": [
    "import gensim.downloader as api\n",
    "embedding=api.load(\"word2vec-google-news-300\")"
   ],
   "metadata": {
    "collapsed": false,
    "pycharm": {
     "name": "#%%\n"
    }
   }
  },
  {
   "cell_type": "code",
   "execution_count": 11,
   "outputs": [
    {
     "name": "stderr",
     "output_type": "stream",
     "text": [
      "[nltk_data] Downloading package punkt to\n",
      "[nltk_data]     /Users/safwanahmed/nltk_data...\n",
      "[nltk_data]   Package punkt is already up-to-date!\n"
     ]
    },
    {
     "data": {
      "text/plain": "True"
     },
     "execution_count": 11,
     "metadata": {},
     "output_type": "execute_result"
    }
   ],
   "source": [
    "import nltk\n",
    "from nltk import word_tokenize\n",
    "\n",
    "nltk.download('punkt')"
   ],
   "metadata": {
    "collapsed": false,
    "pycharm": {
     "name": "#%%\n"
    }
   }
  },
  {
   "cell_type": "code",
   "execution_count": 13,
   "outputs": [
    {
     "data": {
      "text/plain": "'comedycemetery'"
     },
     "execution_count": 13,
     "metadata": {},
     "output_type": "execute_result"
    }
   ],
   "source": [],
   "metadata": {
    "collapsed": false,
    "pycharm": {
     "name": "#%%\n"
    }
   }
  },
  {
   "cell_type": "code",
   "execution_count": 57,
   "outputs": [],
   "source": [
    "def countTokens(X):\n",
    " token_word = []\n",
    " for words in X:\n",
    "  token_word.extend(word_tokenize(words))\n",
    " return len(token_word)\n"
   ],
   "metadata": {
    "collapsed": false,
    "pycharm": {
     "name": "#%%\n"
    }
   }
  },
  {
   "cell_type": "code",
   "execution_count": 58,
   "outputs": [],
   "source": [
    "X_train_tokens_count=countTokens(X_train)"
   ],
   "metadata": {
    "collapsed": false,
    "pycharm": {
     "name": "#%%\n"
    }
   }
  },
  {
   "cell_type": "code",
   "execution_count": 59,
   "outputs": [],
   "source": [
    "X_test_tokens_count=countTokens(X_test)"
   ],
   "metadata": {
    "collapsed": false,
    "pycharm": {
     "name": "#%%\n"
    }
   }
  },
  {
   "cell_type": "code",
   "execution_count": 60,
   "outputs": [],
   "source": [
    "def getEmbeddings(X,embed,size):\n",
    " posts_embedding=[]\n",
    " count=0\n",
    " for post in X:\n",
    "  words=word_tokenize(post)\n",
    "  word_embedding=[]\n",
    "  for word in words:\n",
    "    try:\n",
    "     temp=embed[word]\n",
    "     word_embedding.append(temp)\n",
    "    except KeyError:\n",
    "     count+=1\n",
    "     pass\n",
    "  accumumlate=[0]*size\n",
    "  #change:do not hardcode some vectors may change size e.g. word2vec is 300\n",
    "  accumumlate=np.array(accumumlate)\n",
    "  for embedding_vec in word_embedding:\n",
    "          accumumlate=embedding_vec+accumumlate\n",
    "  if len(word_embedding)!=0:\n",
    "     accumumlate=accumumlate/len(word_embedding)\n",
    "  posts_embedding.append(numpy.copy(accumumlate))\n",
    " return posts_embedding,count\n",
    "\n",
    "\n",
    "\n",
    "\n"
   ],
   "metadata": {
    "collapsed": false,
    "pycharm": {
     "name": "#%%\n"
    }
   }
  },
  {
   "cell_type": "code",
   "execution_count": 61,
   "outputs": [],
   "source": [
    "X_train_embeddings,X_train_misses=getEmbeddings(X_train,embedding,300)"
   ],
   "metadata": {
    "collapsed": false,
    "pycharm": {
     "name": "#%%\n"
    }
   }
  },
  {
   "cell_type": "code",
   "execution_count": 62,
   "outputs": [],
   "source": [
    "X_test_embeddings,X_test_misses=getEmbeddings(X_test,embedding,300)"
   ],
   "metadata": {
    "collapsed": false,
    "pycharm": {
     "name": "#%%\n"
    }
   }
  },
  {
   "cell_type": "code",
   "execution_count": 63,
   "outputs": [
    {
     "name": "stdout",
     "output_type": "stream",
     "text": [
      "77.43935634073117\n"
     ]
    }
   ],
   "source": [
    "#77.45391136930904\n",
    "#98.03390368826794\n",
    "#84.55816358409068\n",
    "\n",
    "hit_rate_train=100-((X_train_misses/X_train_tokens_count)*100)\n",
    "print(hit_rate_train)"
   ],
   "metadata": {
    "collapsed": false,
    "pycharm": {
     "name": "#%%\n"
    }
   }
  },
  {
   "cell_type": "code",
   "execution_count": 64,
   "outputs": [
    {
     "name": "stdout",
     "output_type": "stream",
     "text": [
      "77.49562965116499\n"
     ]
    }
   ],
   "source": [
    "#77.43750557266085\n",
    "#98.05362228796282\n",
    "#84.46583863913162\n",
    "hit_rate_test=100-((X_test_misses/X_test_tokens_count)*100)\n",
    "print(hit_rate_test)"
   ],
   "metadata": {
    "collapsed": false,
    "pycharm": {
     "name": "#%%\n"
    }
   }
  },
  {
   "cell_type": "code",
   "execution_count": 65,
   "outputs": [],
   "source": [
    "from sklearn.metrics import classification_report\n",
    "from sklearn.metrics import confusion_matrix\n",
    "def write_matrix_and_report_to_file(y_test,y_pred,name,file,emotions):\n",
    " with open(file, 'a') as f:\n",
    "  con=confusion_matrix(y_test,y_pred)\n",
    "  f.write('\\n')\n",
    "  f.write(name)\n",
    "  f.write('\\n')\n",
    "  if emotions:\n",
    "   con_df=pd.DataFrame(con,index=['admiration','amusement','anger','annoyance','approval','caring','confusion','curiosity','desire','disappointment','disapproval','disgust','embarrassment','excitement','fear','gratitude','grief','joy','love','nervousness','neutral','optimism','pride','realization','relief','remorse','sadness','surprise'],columns=['admiration','amusement','anger','annoyance','approval','caring','confusion','curiosity','desire','disappointment','disapproval','disgust','embarrassment','excitement','fear','gratitude','grief','joy','love','nervousness','neutral','optimism','pride','realization','relief','remorse','sadness','surprise'])\n",
    "  else:\n",
    "    con_df=pd.DataFrame(con,index=['ambiguous','negative','neutral','positive'],columns=['ambiguous','negative','neutral','positive'])\n",
    "  f.write('\\n')\n",
    "  rep=classification_report(y_test, y_pred,zero_division=0)\n",
    "  f.write(rep)\n",
    "  f.write('\\n')\n",
    "  f.write(con_df.to_string())\n",
    "  f.write('\\n')"
   ],
   "metadata": {
    "collapsed": false,
    "pycharm": {
     "name": "#%%\n"
    }
   }
  },
  {
   "cell_type": "markdown",
   "source": [
    "# BASE MLP EMOTIONS word_2_vec-google-news\n"
   ],
   "metadata": {
    "collapsed": false,
    "pycharm": {
     "name": "#%% md\n"
    }
   }
  },
  {
   "cell_type": "code",
   "execution_count": 66,
   "outputs": [
    {
     "name": "stderr",
     "output_type": "stream",
     "text": [
      "/Users/safwanahmed/PycharmProjects/pythonProject/venv/lib/python3.8/site-packages/sklearn/neural_network/_multilayer_perceptron.py:702: ConvergenceWarning: Stochastic Optimizer: Maximum iterations (200) reached and the optimization hasn't converged yet.\n",
      "  warnings.warn(\n"
     ]
    }
   ],
   "source": [
    "from sklearn.neural_network import MLPClassifier\n",
    "neural_net_emotion=MLPClassifier().fit(X_train_embeddings,y_train_emotion)"
   ],
   "metadata": {
    "collapsed": false,
    "pycharm": {
     "name": "#%%\n"
    }
   }
  },
  {
   "cell_type": "code",
   "execution_count": 23,
   "outputs": [],
   "source": [
    "from sklearn.metrics import classification_report\n",
    "y_pred_emotion=neural_net_emotion.predict(X_test_embeddings)"
   ],
   "metadata": {
    "collapsed": false,
    "pycharm": {
     "name": "#%%\n"
    }
   }
  },
  {
   "cell_type": "code",
   "execution_count": 69,
   "outputs": [],
   "source": [
    "import pickle\n",
    "\n",
    "#pickle.dump(neural_net_emotion, open('base_mlp_emotion_w2vec', 'wb'))"
   ],
   "metadata": {
    "collapsed": false,
    "pycharm": {
     "name": "#%%\n"
    }
   }
  },
  {
   "cell_type": "code",
   "execution_count": 25,
   "outputs": [],
   "source": [
    "write_matrix_and_report_to_file(y_test_emotion,y_pred_emotion,'base_mlp_model_emotions_embeddings_word_2_vec-google-news-300','performance',True)"
   ],
   "metadata": {
    "collapsed": false,
    "pycharm": {
     "name": "#%%\n"
    }
   }
  },
  {
   "cell_type": "markdown",
   "source": [
    "# BASE MLP SENTIMENTS word_2_vec-google-news"
   ],
   "metadata": {
    "collapsed": false,
    "pycharm": {
     "name": "#%% md\n"
    }
   }
  },
  {
   "cell_type": "code",
   "execution_count": 67,
   "outputs": [
    {
     "name": "stderr",
     "output_type": "stream",
     "text": [
      "/Users/safwanahmed/PycharmProjects/pythonProject/venv/lib/python3.8/site-packages/sklearn/neural_network/_multilayer_perceptron.py:702: ConvergenceWarning: Stochastic Optimizer: Maximum iterations (200) reached and the optimization hasn't converged yet.\n",
      "  warnings.warn(\n"
     ]
    }
   ],
   "source": [
    "neural_net_sentiments=MLPClassifier().fit(X_train_embeddings,y_train_sentiment)"
   ],
   "metadata": {
    "collapsed": false,
    "pycharm": {
     "name": "#%%\n"
    }
   }
  },
  {
   "cell_type": "code",
   "execution_count": 27,
   "outputs": [],
   "source": [
    "y_pred_sentiments=neural_net_sentiments.predict(X_test_embeddings)"
   ],
   "metadata": {
    "collapsed": false,
    "pycharm": {
     "name": "#%%\n"
    }
   }
  },
  {
   "cell_type": "code",
   "execution_count": 70,
   "outputs": [],
   "source": [
    "#pickle.dump(neural_net_sentiments, open('base_mlp_sentiment_w2vec', 'wb'))"
   ],
   "metadata": {
    "collapsed": false,
    "pycharm": {
     "name": "#%%\n"
    }
   }
  },
  {
   "cell_type": "code",
   "execution_count": 28,
   "outputs": [],
   "source": [
    "write_matrix_and_report_to_file(y_test_sentiment,y_pred_sentiments,'base_mlp_model_sentiments_embeddings_word_2_vec-google-news-300','performance',False)"
   ],
   "metadata": {
    "collapsed": false,
    "pycharm": {
     "name": "#%%\n"
    }
   }
  },
  {
   "cell_type": "markdown",
   "source": [
    "# TOP MLP EMOTIONS word_2_vec-google-news"
   ],
   "metadata": {
    "collapsed": false,
    "pycharm": {
     "name": "#%% md\n"
    }
   }
  },
  {
   "cell_type": "code",
   "execution_count": 71,
   "outputs": [
    {
     "name": "stderr",
     "output_type": "stream",
     "text": [
      "/Users/safwanahmed/PycharmProjects/pythonProject/venv/lib/python3.8/site-packages/sklearn/neural_network/_multilayer_perceptron.py:702: ConvergenceWarning: Stochastic Optimizer: Maximum iterations (200) reached and the optimization hasn't converged yet.\n",
      "  warnings.warn(\n"
     ]
    }
   ],
   "source": [
    "neural_net_emotion=MLPClassifier(activation='tanh',hidden_layer_sizes=(30,50),solver='adam').fit(X_train_embeddings,y_train_emotion)"
   ],
   "metadata": {
    "collapsed": false,
    "pycharm": {
     "name": "#%%\n"
    }
   }
  },
  {
   "cell_type": "code",
   "execution_count": 31,
   "outputs": [],
   "source": [
    "y_pred_emotion=neural_net_emotion.predict(X_test_embeddings)"
   ],
   "metadata": {
    "collapsed": false,
    "pycharm": {
     "name": "#%%\n"
    }
   }
  },
  {
   "cell_type": "code",
   "execution_count": 73,
   "outputs": [],
   "source": [
    "\n",
    "#pickle.dump(neural_net_emotion, open('top_mlp_emotion_w2vec', 'wb'))"
   ],
   "metadata": {
    "collapsed": false,
    "pycharm": {
     "name": "#%%\n"
    }
   }
  },
  {
   "cell_type": "code",
   "execution_count": 32,
   "outputs": [],
   "source": [
    "write_matrix_and_report_to_file(y_test_emotion,y_pred_emotion,'top_mlp_model_emotions_embeddings_word_2_vec-google-news_activation=tanh,hidden_layer_sizes=(30,50),solver=Adam','performance',True)"
   ],
   "metadata": {
    "collapsed": false,
    "pycharm": {
     "name": "#%%\n"
    }
   }
  },
  {
   "cell_type": "markdown",
   "source": [],
   "metadata": {
    "collapsed": false,
    "pycharm": {
     "name": "#%% md\n"
    }
   }
  },
  {
   "cell_type": "markdown",
   "source": [
    "# TOP MLP SENTIMENTS word_2_vec-google-news"
   ],
   "metadata": {
    "collapsed": false,
    "pycharm": {
     "name": "#%% md\n"
    }
   }
  },
  {
   "cell_type": "code",
   "execution_count": 72,
   "outputs": [
    {
     "name": "stderr",
     "output_type": "stream",
     "text": [
      "/Users/safwanahmed/PycharmProjects/pythonProject/venv/lib/python3.8/site-packages/sklearn/neural_network/_multilayer_perceptron.py:702: ConvergenceWarning: Stochastic Optimizer: Maximum iterations (200) reached and the optimization hasn't converged yet.\n",
      "  warnings.warn(\n"
     ]
    }
   ],
   "source": [
    "neural_net_sentiments=MLPClassifier(activation='relu',hidden_layer_sizes=(30,50),solver='adam').fit(X_train_embeddings,y_train_sentiment)"
   ],
   "metadata": {
    "collapsed": false,
    "pycharm": {
     "name": "#%%\n"
    }
   }
  },
  {
   "cell_type": "code",
   "execution_count": 33,
   "outputs": [],
   "source": [
    "y_pred_sentiments=neural_net_sentiments.predict(X_test_embeddings)"
   ],
   "metadata": {
    "collapsed": false,
    "pycharm": {
     "name": "#%%\n"
    }
   }
  },
  {
   "cell_type": "code",
   "execution_count": 74,
   "outputs": [],
   "source": [
    "#pickle.dump(neural_net_sentiments, open('top_mlp_sentiment_w2vec', 'wb'))"
   ],
   "metadata": {
    "collapsed": false,
    "pycharm": {
     "name": "#%%\n"
    }
   }
  },
  {
   "cell_type": "code",
   "execution_count": 34,
   "outputs": [],
   "source": [
    "write_matrix_and_report_to_file(y_test_sentiment,y_pred_sentiments,'top_mlp_model_sentiments_embeddings_word_2_vec-google-news_activation=relu,hidden_layer_sizes=(30,50),solver=Adam','performance',False)"
   ],
   "metadata": {
    "collapsed": false,
    "pycharm": {
     "name": "#%%\n"
    }
   }
  },
  {
   "cell_type": "markdown",
   "source": [
    "# fasttext-wiki-news-subwords-300"
   ],
   "metadata": {
    "collapsed": false,
    "pycharm": {
     "name": "#%% md\n"
    }
   }
  },
  {
   "cell_type": "code",
   "execution_count": 75,
   "outputs": [],
   "source": [
    "embedding=api.load(\"fasttext-wiki-news-subwords-300\")"
   ],
   "metadata": {
    "collapsed": false,
    "pycharm": {
     "name": "#%%\n"
    }
   }
  },
  {
   "cell_type": "code",
   "execution_count": 78,
   "outputs": [],
   "source": [
    "X_train_embeddings,X_train_misses=getEmbeddings(X_train,embedding,300)"
   ],
   "metadata": {
    "collapsed": false,
    "pycharm": {
     "name": "#%%\n"
    }
   }
  },
  {
   "cell_type": "code",
   "execution_count": 79,
   "outputs": [],
   "source": [
    "X_test_embeddings,X_test_misses=getEmbeddings(X_test,embedding,300)"
   ],
   "metadata": {
    "collapsed": false,
    "pycharm": {
     "name": "#%%\n"
    }
   }
  },
  {
   "cell_type": "code",
   "execution_count": 80,
   "outputs": [
    {
     "name": "stdout",
     "output_type": "stream",
     "text": [
      "98.03846011829076\n"
     ]
    }
   ],
   "source": [
    "hit_rate_train=100-((X_train_misses/X_train_tokens_count)*100)\n",
    "print(hit_rate_train)"
   ],
   "metadata": {
    "collapsed": false,
    "pycharm": {
     "name": "#%%\n"
    }
   }
  },
  {
   "cell_type": "code",
   "execution_count": 81,
   "outputs": [
    {
     "name": "stdout",
     "output_type": "stream",
     "text": [
      "98.03532525589667\n"
     ]
    }
   ],
   "source": [
    "hit_rate_test=100-((X_test_misses/X_test_tokens_count)*100)\n",
    "print(hit_rate_test)"
   ],
   "metadata": {
    "collapsed": false,
    "pycharm": {
     "name": "#%%\n"
    }
   }
  },
  {
   "cell_type": "code",
   "execution_count": 82,
   "outputs": [
    {
     "name": "stderr",
     "output_type": "stream",
     "text": [
      "/Users/safwanahmed/PycharmProjects/pythonProject/venv/lib/python3.8/site-packages/sklearn/neural_network/_multilayer_perceptron.py:702: ConvergenceWarning: Stochastic Optimizer: Maximum iterations (200) reached and the optimization hasn't converged yet.\n",
      "  warnings.warn(\n",
      "/Users/safwanahmed/PycharmProjects/pythonProject/venv/lib/python3.8/site-packages/sklearn/neural_network/_multilayer_perceptron.py:702: ConvergenceWarning: Stochastic Optimizer: Maximum iterations (200) reached and the optimization hasn't converged yet.\n",
      "  warnings.warn(\n"
     ]
    }
   ],
   "source": [
    "neural_net_emotion=MLPClassifier(activation='tanh',hidden_layer_sizes=(30,50),solver='adam').fit(X_train_embeddings,y_train_emotion)\n",
    "y_pred_emotion=neural_net_emotion.predict(X_test_embeddings)\n",
    "neural_net_sentiments=MLPClassifier(activation='relu',hidden_layer_sizes=(30,50),solver='adam').fit(X_train_embeddings,y_train_sentiment)\n",
    "y_pred_sentiments=neural_net_sentiments.predict(X_test_embeddings)"
   ],
   "metadata": {
    "collapsed": false,
    "pycharm": {
     "name": "#%%\n"
    }
   }
  },
  {
   "cell_type": "code",
   "execution_count": 83,
   "outputs": [],
   "source": [
    "# pickle.dump(neural_net_sentiments, open('top_mlp_sentiment_fasttext-wiki-news-subwords', 'wb'))\n",
    "# pickle.dump(neural_net_emotion, open('top_mlp_emotion_fasttext-wiki-news-subwords', 'wb'))"
   ],
   "metadata": {
    "collapsed": false,
    "pycharm": {
     "name": "#%%\n"
    }
   }
  },
  {
   "cell_type": "code",
   "execution_count": 41,
   "outputs": [],
   "source": [
    "write_matrix_and_report_to_file(y_test_emotion,y_pred_emotion,'cv_mlp_model_emotions_activation=TANH,hidden_layer_sizes=(30,50)_fasttext-wiki-news-subwords-300','performance',True)\n",
    "write_matrix_and_report_to_file(y_test_sentiment,y_pred_sentiments,'cv_mlp_model_sentiments_activation=relu,hidden_layer_sizes=(30,50)_fasttext-wiki-news-subwords-300','performance',False)"
   ],
   "metadata": {
    "collapsed": false,
    "pycharm": {
     "name": "#%%\n"
    }
   }
  },
  {
   "cell_type": "markdown",
   "source": [
    "# glove-twitter-100"
   ],
   "metadata": {
    "collapsed": false,
    "pycharm": {
     "name": "#%% md\n"
    }
   }
  },
  {
   "cell_type": "code",
   "execution_count": 84,
   "outputs": [],
   "source": [
    "embedding=api.load(\"glove-twitter-100\")"
   ],
   "metadata": {
    "collapsed": false,
    "pycharm": {
     "name": "#%%\n"
    }
   }
  },
  {
   "cell_type": "code",
   "execution_count": 85,
   "outputs": [],
   "source": [
    "X_train_embeddings,X_train_misses=getEmbeddings(X_train,embedding,100)"
   ],
   "metadata": {
    "collapsed": false,
    "pycharm": {
     "name": "#%%\n"
    }
   }
  },
  {
   "cell_type": "code",
   "execution_count": 86,
   "outputs": [],
   "source": [
    "X_test_embeddings,X_test_misses=getEmbeddings(X_test,embedding,100)"
   ],
   "metadata": {
    "collapsed": false,
    "pycharm": {
     "name": "#%%\n"
    }
   }
  },
  {
   "cell_type": "code",
   "execution_count": 87,
   "outputs": [
    {
     "name": "stdout",
     "output_type": "stream",
     "text": [
      "84.55000942046618\n"
     ]
    }
   ],
   "source": [
    "hit_rate_train=100-((X_train_misses/X_train_tokens_count)*100)\n",
    "print(hit_rate_train)"
   ],
   "metadata": {
    "collapsed": false,
    "pycharm": {
     "name": "#%%\n"
    }
   }
  },
  {
   "cell_type": "code",
   "execution_count": 88,
   "outputs": [
    {
     "name": "stdout",
     "output_type": "stream",
     "text": [
      "84.49894847330405\n"
     ]
    }
   ],
   "source": [
    "hit_rate_test=100-((X_test_misses/X_test_tokens_count)*100)\n",
    "print(hit_rate_test)"
   ],
   "metadata": {
    "collapsed": false,
    "pycharm": {
     "name": "#%%\n"
    }
   }
  },
  {
   "cell_type": "code",
   "execution_count": 89,
   "outputs": [
    {
     "name": "stderr",
     "output_type": "stream",
     "text": [
      "/Users/safwanahmed/PycharmProjects/pythonProject/venv/lib/python3.8/site-packages/sklearn/neural_network/_multilayer_perceptron.py:702: ConvergenceWarning: Stochastic Optimizer: Maximum iterations (200) reached and the optimization hasn't converged yet.\n",
      "  warnings.warn(\n",
      "/Users/safwanahmed/PycharmProjects/pythonProject/venv/lib/python3.8/site-packages/sklearn/neural_network/_multilayer_perceptron.py:702: ConvergenceWarning: Stochastic Optimizer: Maximum iterations (200) reached and the optimization hasn't converged yet.\n",
      "  warnings.warn(\n"
     ]
    }
   ],
   "source": [
    "neural_net_emotion=MLPClassifier(activation='tanh',hidden_layer_sizes=(30,50),solver='adam').fit(X_train_embeddings,y_train_emotion)\n",
    "y_pred_emotion=neural_net_emotion.predict(X_test_embeddings)\n",
    "neural_net_sentiments=MLPClassifier(activation='relu',hidden_layer_sizes=(30,50),solver='adam').fit(X_train_embeddings,y_train_sentiment)\n",
    "y_pred_sentiments=neural_net_sentiments.predict(X_test_embeddings)"
   ],
   "metadata": {
    "collapsed": false,
    "pycharm": {
     "name": "#%%\n"
    }
   }
  },
  {
   "cell_type": "code",
   "execution_count": 90,
   "outputs": [],
   "source": [
    "\n",
    "# pickle.dump(neural_net_sentiments, open('top_mlp_sentiment_glove-twitter-100', 'wb'))\n",
    "# pickle.dump(neural_net_emotion, open('top_mlp_emotion_glove-twitter-100', 'wb'))"
   ],
   "metadata": {
    "collapsed": false,
    "pycharm": {
     "name": "#%%\n"
    }
   }
  },
  {
   "cell_type": "code",
   "execution_count": 48,
   "outputs": [],
   "source": [
    "write_matrix_and_report_to_file(y_test_emotion,y_pred_emotion,'cv_mlp_model_emotionss_activation=tanh,hidden_layer_sizes=(30,50)_glove_twitter','performance',True)\n",
    "write_matrix_and_report_to_file(y_test_sentiment,y_pred_sentiments,'cv_mlp_model_sentiments_activation=relu,hidden_layer_sizes=(30,50)_glove_twitter','performance',False)"
   ],
   "metadata": {
    "collapsed": false,
    "pycharm": {
     "name": "#%%\n"
    }
   }
  }
 ],
 "metadata": {
  "kernelspec": {
   "display_name": "Python 3",
   "language": "python",
   "name": "python3"
  },
  "language_info": {
   "codemirror_mode": {
    "name": "ipython",
    "version": 2
   },
   "file_extension": ".py",
   "mimetype": "text/x-python",
   "name": "python",
   "nbconvert_exporter": "python",
   "pygments_lexer": "ipython2",
   "version": "2.7.6"
  }
 },
 "nbformat": 4,
 "nbformat_minor": 0
}